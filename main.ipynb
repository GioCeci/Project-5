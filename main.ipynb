{
 "cells": [
  {
   "cell_type": "code",
   "execution_count": 5,
   "id": "450b4368-72d1-476a-b767-eb7f3bebe865",
   "metadata": {},
   "outputs": [],
   "source": [
    "#Your task is to create a Python script that analyzes the records to calculate each of the following:\n",
    "\n",
    "\n",
    "#The total number of months included in the dataset.\n",
    "\n",
    "\n",
    "#The net total amount of Profit/Losses over the entire period.\n",
    "\n",
    "\n",
    "#The average of the changes in Profit/Losses over the entire period.\n",
    "\n",
    "\n",
    "#The greatest increase in profits (date and amount) over the entire period.\n",
    "\n",
    "\n",
    "#The greatest decrease in losses (date and amount) over the entire period.\n",
    "\n",
    "\n",
    "#Your resulting analysis should look similar to the following:Financial Analysis\n",
    "#----------------------------\n",
    "#Total Months: 86\n",
    "#Total: $38382578\n",
    "#Average  Change: $-2315.12\n",
    "#Greatest Increase in Profits: Feb-2012 ($1926159)\n",
    "#Greatest Decrease in Profits: Sep-2013 ($-2196167)"
   ]
  },
  {
   "cell_type": "code",
   "execution_count": 1,
   "id": "3ae571fc-2994-4cb8-9aaa-e9cd5268e30f",
   "metadata": {},
   "outputs": [],
   "source": [
    "import pandas as pd\n",
    "df = pd.read_csv(\"budget_data.csv\")"
   ]
  },
  {
   "cell_type": "code",
   "execution_count": 2,
   "id": "fbd212b6-740e-4151-a2f8-a73dbb1ef50a",
   "metadata": {},
   "outputs": [
    {
     "data": {
      "text/plain": [
       "<bound method DataFrame.info of         Date  Profit/Losses\n",
       "0   Jan-2010         867884\n",
       "1   Feb-2010         984655\n",
       "2   Mar-2010         322013\n",
       "3   Apr-2010         -69417\n",
       "4   May-2010         310503\n",
       "..       ...            ...\n",
       "81  Oct-2016         102685\n",
       "82  Nov-2016         795914\n",
       "83  Dec-2016          60988\n",
       "84  Jan-2017         138230\n",
       "85  Feb-2017         671099\n",
       "\n",
       "[86 rows x 2 columns]>"
      ]
     },
     "execution_count": 2,
     "metadata": {},
     "output_type": "execute_result"
    }
   ],
   "source": [
    "df.info"
   ]
  },
  {
   "cell_type": "code",
   "execution_count": 3,
   "id": "645d5984-dfec-4a6a-b944-b26b67b59dbb",
   "metadata": {},
   "outputs": [
    {
     "data": {
      "text/plain": [
       "86"
      ]
     },
     "execution_count": 3,
     "metadata": {},
     "output_type": "execute_result"
    }
   ],
   "source": [
    "#The total number of months included in the dataset.\n",
    "\n",
    "len(df.index)"
   ]
  },
  {
   "cell_type": "code",
   "execution_count": 5,
   "id": "c2b9c09f-45b5-4214-a45b-11b11d941413",
   "metadata": {},
   "outputs": [
    {
     "data": {
      "text/html": [
       "<div>\n",
       "<style scoped>\n",
       "    .dataframe tbody tr th:only-of-type {\n",
       "        vertical-align: middle;\n",
       "    }\n",
       "\n",
       "    .dataframe tbody tr th {\n",
       "        vertical-align: top;\n",
       "    }\n",
       "\n",
       "    .dataframe thead th {\n",
       "        text-align: right;\n",
       "    }\n",
       "</style>\n",
       "<table border=\"1\" class=\"dataframe\">\n",
       "  <thead>\n",
       "    <tr style=\"text-align: right;\">\n",
       "      <th></th>\n",
       "      <th>Date</th>\n",
       "      <th>Profit/Losses</th>\n",
       "    </tr>\n",
       "  </thead>\n",
       "  <tbody>\n",
       "    <tr>\n",
       "      <th>0</th>\n",
       "      <td>Jan-2010</td>\n",
       "      <td>867884</td>\n",
       "    </tr>\n",
       "    <tr>\n",
       "      <th>1</th>\n",
       "      <td>Feb-2010</td>\n",
       "      <td>984655</td>\n",
       "    </tr>\n",
       "    <tr>\n",
       "      <th>2</th>\n",
       "      <td>Mar-2010</td>\n",
       "      <td>322013</td>\n",
       "    </tr>\n",
       "    <tr>\n",
       "      <th>3</th>\n",
       "      <td>Apr-2010</td>\n",
       "      <td>-69417</td>\n",
       "    </tr>\n",
       "    <tr>\n",
       "      <th>4</th>\n",
       "      <td>May-2010</td>\n",
       "      <td>310503</td>\n",
       "    </tr>\n",
       "    <tr>\n",
       "      <th>5</th>\n",
       "      <td>Jun-2010</td>\n",
       "      <td>522857</td>\n",
       "    </tr>\n",
       "    <tr>\n",
       "      <th>6</th>\n",
       "      <td>Jul-2010</td>\n",
       "      <td>1033096</td>\n",
       "    </tr>\n",
       "    <tr>\n",
       "      <th>7</th>\n",
       "      <td>Aug-2010</td>\n",
       "      <td>604885</td>\n",
       "    </tr>\n",
       "    <tr>\n",
       "      <th>8</th>\n",
       "      <td>Sep-2010</td>\n",
       "      <td>-216386</td>\n",
       "    </tr>\n",
       "    <tr>\n",
       "      <th>9</th>\n",
       "      <td>Oct-2010</td>\n",
       "      <td>477532</td>\n",
       "    </tr>\n",
       "  </tbody>\n",
       "</table>\n",
       "</div>"
      ],
      "text/plain": [
       "       Date  Profit/Losses\n",
       "0  Jan-2010         867884\n",
       "1  Feb-2010         984655\n",
       "2  Mar-2010         322013\n",
       "3  Apr-2010         -69417\n",
       "4  May-2010         310503\n",
       "5  Jun-2010         522857\n",
       "6  Jul-2010        1033096\n",
       "7  Aug-2010         604885\n",
       "8  Sep-2010        -216386\n",
       "9  Oct-2010         477532"
      ]
     },
     "execution_count": 5,
     "metadata": {},
     "output_type": "execute_result"
    }
   ],
   "source": [
    "df.head(10)"
   ]
  },
  {
   "cell_type": "code",
   "execution_count": 10,
   "id": "852a710e-8e15-41d4-87c0-7e656df2e4fc",
   "metadata": {},
   "outputs": [
    {
     "data": {
      "text/plain": [
       "Date             Jan-2010Feb-2010Mar-2010Apr-2010May-2010Jun-20...\n",
       "Profit/Losses                                             38382578\n",
       "dtype: object"
      ]
     },
     "execution_count": 10,
     "metadata": {},
     "output_type": "execute_result"
    }
   ],
   "source": [
    "#The net total amount of Profit/Losses over the entire period.\n",
    "df.sum(axis = 0, skipna = True)\n"
   ]
  },
  {
   "cell_type": "code",
   "execution_count": 21,
   "id": "74697121-6025-4b60-8bbd-46d3ae9afa2c",
   "metadata": {},
   "outputs": [
    {
     "data": {
      "text/html": [
       "<div>\n",
       "<style scoped>\n",
       "    .dataframe tbody tr th:only-of-type {\n",
       "        vertical-align: middle;\n",
       "    }\n",
       "\n",
       "    .dataframe tbody tr th {\n",
       "        vertical-align: top;\n",
       "    }\n",
       "\n",
       "    .dataframe thead th {\n",
       "        text-align: right;\n",
       "    }\n",
       "</style>\n",
       "<table border=\"1\" class=\"dataframe\">\n",
       "  <thead>\n",
       "    <tr style=\"text-align: right;\">\n",
       "      <th></th>\n",
       "      <th>Date</th>\n",
       "      <th>Profit/Losses</th>\n",
       "      <th>shifted_column</th>\n",
       "      <th>difference</th>\n",
       "      <th>pct_change</th>\n",
       "    </tr>\n",
       "  </thead>\n",
       "  <tbody>\n",
       "    <tr>\n",
       "      <th>0</th>\n",
       "      <td>Jan-2010</td>\n",
       "      <td>867884</td>\n",
       "      <td>NaN</td>\n",
       "      <td>NaN</td>\n",
       "      <td>NaN</td>\n",
       "    </tr>\n",
       "    <tr>\n",
       "      <th>1</th>\n",
       "      <td>Feb-2010</td>\n",
       "      <td>984655</td>\n",
       "      <td>867884.0</td>\n",
       "      <td>116771.0</td>\n",
       "      <td>0.134547</td>\n",
       "    </tr>\n",
       "    <tr>\n",
       "      <th>2</th>\n",
       "      <td>Mar-2010</td>\n",
       "      <td>322013</td>\n",
       "      <td>984655.0</td>\n",
       "      <td>662642.0</td>\n",
       "      <td>-0.672969</td>\n",
       "    </tr>\n",
       "    <tr>\n",
       "      <th>3</th>\n",
       "      <td>Apr-2010</td>\n",
       "      <td>-69417</td>\n",
       "      <td>322013.0</td>\n",
       "      <td>391430.0</td>\n",
       "      <td>-1.215572</td>\n",
       "    </tr>\n",
       "    <tr>\n",
       "      <th>4</th>\n",
       "      <td>May-2010</td>\n",
       "      <td>310503</td>\n",
       "      <td>-69417.0</td>\n",
       "      <td>379920.0</td>\n",
       "      <td>-5.473011</td>\n",
       "    </tr>\n",
       "  </tbody>\n",
       "</table>\n",
       "</div>"
      ],
      "text/plain": [
       "       Date  Profit/Losses  shifted_column  difference  pct_change\n",
       "0  Jan-2010         867884             NaN         NaN         NaN\n",
       "1  Feb-2010         984655        867884.0    116771.0    0.134547\n",
       "2  Mar-2010         322013        984655.0    662642.0   -0.672969\n",
       "3  Apr-2010         -69417        322013.0    391430.0   -1.215572\n",
       "4  May-2010         310503        -69417.0    379920.0   -5.473011"
      ]
     },
     "execution_count": 21,
     "metadata": {},
     "output_type": "execute_result"
    }
   ],
   "source": [
    "#The average of the changes in Profit/Losses over the entire period.\n",
    "df[\"pct_change\"] = df[\"Profit/Losses\"].pct_change()\n",
    "df.head()"
   ]
  },
  {
   "cell_type": "code",
   "execution_count": 22,
   "id": "2367ec36-0d64-46b7-af73-743f358ffd8d",
   "metadata": {},
   "outputs": [
    {
     "data": {
      "text/plain": [
       "-0.28671102859649694"
      ]
     },
     "execution_count": 22,
     "metadata": {},
     "output_type": "execute_result"
    }
   ],
   "source": [
    "df[\"pct_change\"].mean()"
   ]
  },
  {
   "cell_type": "code",
   "execution_count": 43,
   "id": "079884a0-214d-42dd-aa35-c2b284323cab",
   "metadata": {},
   "outputs": [
    {
     "name": "stdout",
     "output_type": "stream",
     "text": [
      "-10.704752778365462\n"
     ]
    }
   ],
   "source": [
    "min_value = df[\"pct_change\"].min()\n",
    "print(min_value)"
   ]
  },
  {
   "cell_type": "code",
   "execution_count": 34,
   "id": "214479ee-2183-4da3-9bc3-1e4daf6bae21",
   "metadata": {},
   "outputs": [
    {
     "name": "stdout",
     "output_type": "stream",
     "text": [
      "9.651835674090133\n"
     ]
    }
   ],
   "source": [
    "max_value = df[\"pct_change\"].max()\n",
    "print (max_value)"
   ]
  },
  {
   "cell_type": "code",
   "execution_count": 51,
   "id": "ced7c6a0-c752-4923-87b2-53cfeb4f0573",
   "metadata": {},
   "outputs": [
    {
     "name": "stdout",
     "output_type": "stream",
     "text": [
      "Apr-2010\n",
      "Sep-2016\n",
      "-0.28671102859649694\n"
     ]
    }
   ],
   "source": [
    "min_date = df.min()[0]\n",
    "max_date = df.max()[0]\n",
    "print(min_date)\n",
    "print(max_date)\n",
    "average_change = df[\"pct_change\"].mean()\n",
    "print(average_change)"
   ]
  },
  {
   "cell_type": "code",
   "execution_count": 48,
   "id": "aea98ae7-76a7-4c70-a421-7096feef65cb",
   "metadata": {},
   "outputs": [],
   "source": [
    "average = round(average_change, 2)"
   ]
  },
  {
   "cell_type": "code",
   "execution_count": 55,
   "id": "a9cfc1e7-965b-4809-8b46-300c85eb1086",
   "metadata": {},
   "outputs": [
    {
     "name": "stdout",
     "output_type": "stream",
     "text": [
      "-0.29\n"
     ]
    }
   ],
   "source": [
    "print (average)"
   ]
  },
  {
   "cell_type": "code",
   "execution_count": 63,
   "id": "9f50e667-99e1-4e88-af40-3a4a1cc20250",
   "metadata": {},
   "outputs": [],
   "source": [
    "total_months = 86\n",
    "total_profit = 38382578\n",
    "average_change = -0.29"
   ]
  },
  {
   "cell_type": "code",
   "execution_count": 77,
   "id": "67efc46d-e46b-47bc-97cc-0539998401ae",
   "metadata": {},
   "outputs": [
    {
     "name": "stdout",
     "output_type": "stream",
     "text": [
      "Financial Analysis\n",
      "----------------------------\n",
      "Total Months: 86\n",
      "Total: 38382578\n",
      "Average Change: -0.29\n",
      "Greatest Increase in Profits: Sep-2016 9.651835674090133\n",
      "Greatest Decrea in Profits: Apr-2010 -10.704752778365462\n"
     ]
    }
   ],
   "source": [
    "print(\"Financial Analysis\") \n",
    "print(\"----------------------------\")\n",
    "print(f\"Total Months:\",total_months)\n",
    "print(f\"Total:\",total_profit)\n",
    "print(f\"Average Change:\", average_change)\n",
    "print(f\"Greatest Increase in Profits:\", max_date,  max_value)\n",
    "print(\"Greatest Decrea in Profits:\", min_date,  min_value)"
   ]
  }
 ],
 "metadata": {
  "kernelspec": {
   "display_name": "Python 3",
   "language": "python",
   "name": "python3"
  },
  "language_info": {
   "codemirror_mode": {
    "name": "ipython",
    "version": 3
   },
   "file_extension": ".py",
   "mimetype": "text/x-python",
   "name": "python",
   "nbconvert_exporter": "python",
   "pygments_lexer": "ipython3",
   "version": "3.8.5"
  }
 },
 "nbformat": 4,
 "nbformat_minor": 5
}
